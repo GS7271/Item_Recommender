{
 "cells": [
  {
   "cell_type": "code",
   "execution_count": 1,
   "metadata": {
    "collapsed": false
   },
   "outputs": [
    {
     "name": "stdout",
     "output_type": "stream",
     "text": [
      "last updated: 2018-01-21 \n",
      "\n",
      "CPython 2.7.12\n",
      "IPython 5.4.1\n",
      "\n",
      "numpy 1.11.1\n",
      "pandas 0.18.1\n",
      "matplotlib 1.5.3\n",
      "sklearn 0.18.1\n"
     ]
    }
   ],
   "source": [
    "%load_ext watermark\n",
    "%watermark -u -d -v -p numpy,pandas,matplotlib,sklearn"
   ]
  },
  {
   "cell_type": "code",
   "execution_count": 3,
   "metadata": {
    "collapsed": false
   },
   "outputs": [
    {
     "data": {
      "text/html": [
       "<div>\n",
       "<table border=\"1\" class=\"dataframe\">\n",
       "  <thead>\n",
       "    <tr style=\"text-align: right;\">\n",
       "      <th></th>\n",
       "      <th>Order</th>\n",
       "      <th>Order Date</th>\n",
       "      <th>Invoice Number</th>\n",
       "      <th>Transaction Date</th>\n",
       "      <th>Year</th>\n",
       "      <th>Sold To Customer</th>\n",
       "      <th>Sold To Customer Name</th>\n",
       "      <th>Ship To Customer</th>\n",
       "      <th>Owned By Customer (Parent)</th>\n",
       "      <th>Owned By Customer Name (Parent)</th>\n",
       "      <th>...</th>\n",
       "      <th>Ship To City</th>\n",
       "      <th>Postal Code</th>\n",
       "      <th>Item</th>\n",
       "      <th>Item Description</th>\n",
       "      <th>GROSS_UNIT_PRICE</th>\n",
       "      <th>Net Unit Price</th>\n",
       "      <th>Unit COGS</th>\n",
       "      <th>Qty</th>\n",
       "      <th>Extended Gross Sales</th>\n",
       "      <th>Extended Net Sales</th>\n",
       "    </tr>\n",
       "  </thead>\n",
       "  <tbody>\n",
       "    <tr>\n",
       "      <th>0</th>\n",
       "      <td>A095453</td>\n",
       "      <td>11/18/2010</td>\n",
       "      <td>92786100</td>\n",
       "      <td>1/4/2011</td>\n",
       "      <td>2011</td>\n",
       "      <td>B64562600</td>\n",
       "      <td>NESTLE USA #105</td>\n",
       "      <td>B64562608</td>\n",
       "      <td>B64560200</td>\n",
       "      <td>NESTLE</td>\n",
       "      <td>...</td>\n",
       "      <td>MT STERLING</td>\n",
       "      <td>40353</td>\n",
       "      <td>SA-C2K2000-504WXA</td>\n",
       "      <td>ASSY,PUSHER SLIDE,9\",12\",15\"</td>\n",
       "      <td>2335.00</td>\n",
       "      <td>2335.00</td>\n",
       "      <td>360.04</td>\n",
       "      <td>1.0</td>\n",
       "      <td>2335.00</td>\n",
       "      <td>2335.00</td>\n",
       "    </tr>\n",
       "    <tr>\n",
       "      <th>1</th>\n",
       "      <td>A095620</td>\n",
       "      <td>11/24/2010</td>\n",
       "      <td>92786110</td>\n",
       "      <td>1/4/2011</td>\n",
       "      <td>2011</td>\n",
       "      <td>B75500900</td>\n",
       "      <td>RECKITT BENCKISER</td>\n",
       "      <td>B75500900</td>\n",
       "      <td>B75500100</td>\n",
       "      <td>RECKITT &amp; BENCKISER INC</td>\n",
       "      <td>...</td>\n",
       "      <td>BROADWAY</td>\n",
       "      <td>8808</td>\n",
       "      <td>500688</td>\n",
       "      <td>CAM, LOWER RETURN, RH</td>\n",
       "      <td>275.60</td>\n",
       "      <td>275.60</td>\n",
       "      <td>77.60</td>\n",
       "      <td>1.0</td>\n",
       "      <td>275.60</td>\n",
       "      <td>275.60</td>\n",
       "    </tr>\n",
       "    <tr>\n",
       "      <th>2</th>\n",
       "      <td>A095737</td>\n",
       "      <td>11/30/2010</td>\n",
       "      <td>92786120</td>\n",
       "      <td>1/4/2011</td>\n",
       "      <td>2011</td>\n",
       "      <td>B93100100</td>\n",
       "      <td>QUALITEST PHARMACEUTICALS</td>\n",
       "      <td>B93100100</td>\n",
       "      <td>B93100100</td>\n",
       "      <td>QUALITEST PHARMACEUTICALS</td>\n",
       "      <td>...</td>\n",
       "      <td>DEVAULT</td>\n",
       "      <td>19432</td>\n",
       "      <td>298435</td>\n",
       "      <td>ANGLE,SUPT-CLUTCH</td>\n",
       "      <td>43.68</td>\n",
       "      <td>43.68</td>\n",
       "      <td>20.78</td>\n",
       "      <td>1.0</td>\n",
       "      <td>43.68</td>\n",
       "      <td>43.68</td>\n",
       "    </tr>\n",
       "    <tr>\n",
       "      <th>3</th>\n",
       "      <td>A095882</td>\n",
       "      <td>12/3/2010</td>\n",
       "      <td>92786130</td>\n",
       "      <td>1/4/2011</td>\n",
       "      <td>2011</td>\n",
       "      <td>B05820200</td>\n",
       "      <td>ANHEUSER BUSCH</td>\n",
       "      <td>B05820201</td>\n",
       "      <td>B05820000</td>\n",
       "      <td>ANHEUSER BUSCH</td>\n",
       "      <td>...</td>\n",
       "      <td>MERRIMACK</td>\n",
       "      <td>3054</td>\n",
       "      <td>377949</td>\n",
       "      <td>CHAIN, UCC - MODIFIED</td>\n",
       "      <td>2653.00</td>\n",
       "      <td>2653.00</td>\n",
       "      <td>894.49</td>\n",
       "      <td>1.0</td>\n",
       "      <td>2653.00</td>\n",
       "      <td>2653.00</td>\n",
       "    </tr>\n",
       "    <tr>\n",
       "      <th>4</th>\n",
       "      <td>A095963</td>\n",
       "      <td>12/7/2010</td>\n",
       "      <td>92786140</td>\n",
       "      <td>1/4/2011</td>\n",
       "      <td>2011</td>\n",
       "      <td>B38100000</td>\n",
       "      <td>GENERAL MILLS</td>\n",
       "      <td>B38100029</td>\n",
       "      <td>B38100000</td>\n",
       "      <td>GENERAL MILLS</td>\n",
       "      <td>...</td>\n",
       "      <td>W CHICAGO</td>\n",
       "      <td>60185</td>\n",
       "      <td>254049</td>\n",
       "      <td>CARRIER,CHN</td>\n",
       "      <td>13.26</td>\n",
       "      <td>13.26</td>\n",
       "      <td>5.55</td>\n",
       "      <td>46.0</td>\n",
       "      <td>609.96</td>\n",
       "      <td>609.96</td>\n",
       "    </tr>\n",
       "  </tbody>\n",
       "</table>\n",
       "<p>5 rows × 24 columns</p>\n",
       "</div>"
      ],
      "text/plain": [
       "     Order  Order Date  Invoice Number Transaction Date  Year  \\\n",
       "0  A095453  11/18/2010        92786100         1/4/2011  2011   \n",
       "1  A095620  11/24/2010        92786110         1/4/2011  2011   \n",
       "2  A095737  11/30/2010        92786120         1/4/2011  2011   \n",
       "3  A095882   12/3/2010        92786130         1/4/2011  2011   \n",
       "4  A095963   12/7/2010        92786140         1/4/2011  2011   \n",
       "\n",
       "  Sold To Customer      Sold To Customer Name Ship To Customer  \\\n",
       "0        B64562600            NESTLE USA #105        B64562608   \n",
       "1        B75500900          RECKITT BENCKISER        B75500900   \n",
       "2        B93100100  QUALITEST PHARMACEUTICALS        B93100100   \n",
       "3        B05820200             ANHEUSER BUSCH        B05820201   \n",
       "4        B38100000              GENERAL MILLS        B38100029   \n",
       "\n",
       "  Owned By Customer (Parent) Owned By Customer Name (Parent)  \\\n",
       "0                  B64560200                          NESTLE   \n",
       "1                  B75500100         RECKITT & BENCKISER INC   \n",
       "2                  B93100100       QUALITEST PHARMACEUTICALS   \n",
       "3                  B05820000                  ANHEUSER BUSCH   \n",
       "4                  B38100000                   GENERAL MILLS   \n",
       "\n",
       "          ...         Ship To City Postal Code               Item  \\\n",
       "0         ...          MT STERLING       40353  SA-C2K2000-504WXA   \n",
       "1         ...             BROADWAY        8808             500688   \n",
       "2         ...              DEVAULT       19432             298435   \n",
       "3         ...            MERRIMACK        3054             377949   \n",
       "4         ...            W CHICAGO       60185             254049   \n",
       "\n",
       "               Item Description GROSS_UNIT_PRICE Net Unit Price Unit COGS  \\\n",
       "0  ASSY,PUSHER SLIDE,9\",12\",15\"          2335.00        2335.00    360.04   \n",
       "1         CAM, LOWER RETURN, RH           275.60         275.60     77.60   \n",
       "2             ANGLE,SUPT-CLUTCH            43.68          43.68     20.78   \n",
       "3         CHAIN, UCC - MODIFIED          2653.00        2653.00    894.49   \n",
       "4                   CARRIER,CHN            13.26          13.26      5.55   \n",
       "\n",
       "    Qty  Extended Gross Sales  Extended Net Sales  \n",
       "0   1.0               2335.00             2335.00  \n",
       "1   1.0                275.60              275.60  \n",
       "2   1.0                 43.68               43.68  \n",
       "3   1.0               2653.00             2653.00  \n",
       "4  46.0                609.96              609.96  \n",
       "\n",
       "[5 rows x 24 columns]"
      ]
     },
     "execution_count": 3,
     "metadata": {},
     "output_type": "execute_result"
    }
   ],
   "source": [
    "import pandas as pd\n",
    "import numpy as np\n",
    "\n",
    "path = '/Users/GS7271/Documents/COESIA/'\n",
    "\n",
    "CVG = pd.read_csv(path + 'Covington_Legacy_2011-2016.csv')\n",
    "\n",
    "CVG.head()"
   ]
  },
  {
   "cell_type": "code",
   "execution_count": 18,
   "metadata": {
    "collapsed": true
   },
   "outputs": [],
   "source": [
    "CVG.columns = [c.replace(' ', '_') for c in CVG.columns]"
   ]
  },
  {
   "cell_type": "code",
   "execution_count": 19,
   "metadata": {
    "collapsed": false
   },
   "outputs": [
    {
     "data": {
      "text/plain": [
       "Order                               object\n",
       "Order_Date                          object\n",
       "Invoice_Number                       int64\n",
       "Transaction_Date                    object\n",
       "Year                                 int64\n",
       "Sold_To_Customer                    object\n",
       "Sold_To_Customer_Name               object\n",
       "Ship_To_Customer                    object\n",
       "Owned_By_Customer_(Parent)          object\n",
       "Owned_By_Customer_Name_(Parent)     object\n",
       "Ship_To_Location                    object\n",
       "Country                             object\n",
       "State                               object\n",
       "Province                            object\n",
       "Ship_To_City                        object\n",
       "Postal_Code                         object\n",
       "Item                                object\n",
       "Item_Description                    object\n",
       "GROSS_UNIT_PRICE                   float64\n",
       "Net_Unit_Price                     float64\n",
       "Unit_COGS                          float64\n",
       "Qty                                float64\n",
       "Extended_Gross_Sales               float64\n",
       "Extended_Net_Sales                 float64\n",
       "dtype: object"
      ]
     },
     "execution_count": 19,
     "metadata": {},
     "output_type": "execute_result"
    }
   ],
   "source": [
    "CVG.dtypes"
   ]
  },
  {
   "cell_type": "code",
   "execution_count": 20,
   "metadata": {
    "collapsed": false
   },
   "outputs": [
    {
     "data": {
      "text/html": [
       "<div>\n",
       "<table border=\"1\" class=\"dataframe\">\n",
       "  <thead>\n",
       "    <tr style=\"text-align: right;\">\n",
       "      <th>Year</th>\n",
       "      <th>2011</th>\n",
       "      <th>2012</th>\n",
       "      <th>2013</th>\n",
       "      <th>2014</th>\n",
       "      <th>2015</th>\n",
       "      <th>2016</th>\n",
       "    </tr>\n",
       "    <tr>\n",
       "      <th>Item</th>\n",
       "      <th></th>\n",
       "      <th></th>\n",
       "      <th></th>\n",
       "      <th></th>\n",
       "      <th></th>\n",
       "      <th></th>\n",
       "    </tr>\n",
       "  </thead>\n",
       "  <tbody>\n",
       "    <tr>\n",
       "      <th>#104A-0019-0031</th>\n",
       "      <td>NaN</td>\n",
       "      <td>NaN</td>\n",
       "      <td>NaN</td>\n",
       "      <td>65.52</td>\n",
       "      <td>NaN</td>\n",
       "      <td>NaN</td>\n",
       "    </tr>\n",
       "    <tr>\n",
       "      <th>#104A-0019-0050</th>\n",
       "      <td>NaN</td>\n",
       "      <td>NaN</td>\n",
       "      <td>NaN</td>\n",
       "      <td>10.00</td>\n",
       "      <td>144.00</td>\n",
       "      <td>NaN</td>\n",
       "    </tr>\n",
       "    <tr>\n",
       "      <th>#104A-0019-0056</th>\n",
       "      <td>NaN</td>\n",
       "      <td>61.19</td>\n",
       "      <td>NaN</td>\n",
       "      <td>226.86</td>\n",
       "      <td>24.48</td>\n",
       "      <td>NaN</td>\n",
       "    </tr>\n",
       "    <tr>\n",
       "      <th>#104A-0025-0031</th>\n",
       "      <td>NaN</td>\n",
       "      <td>NaN</td>\n",
       "      <td>NaN</td>\n",
       "      <td>59.32</td>\n",
       "      <td>NaN</td>\n",
       "      <td>NaN</td>\n",
       "    </tr>\n",
       "    <tr>\n",
       "      <th>#104A-0025-0056</th>\n",
       "      <td>NaN</td>\n",
       "      <td>NaN</td>\n",
       "      <td>NaN</td>\n",
       "      <td>88.88</td>\n",
       "      <td>993.60</td>\n",
       "      <td>NaN</td>\n",
       "    </tr>\n",
       "    <tr>\n",
       "      <th>#104A-0031-0112</th>\n",
       "      <td>NaN</td>\n",
       "      <td>NaN</td>\n",
       "      <td>NaN</td>\n",
       "      <td>NaN</td>\n",
       "      <td>51.30</td>\n",
       "      <td>NaN</td>\n",
       "    </tr>\n",
       "    <tr>\n",
       "      <th>#104K-0300</th>\n",
       "      <td>NaN</td>\n",
       "      <td>213.28</td>\n",
       "      <td>NaN</td>\n",
       "      <td>NaN</td>\n",
       "      <td>NaN</td>\n",
       "      <td>NaN</td>\n",
       "    </tr>\n",
       "    <tr>\n",
       "      <th>#203B-0044</th>\n",
       "      <td>NaN</td>\n",
       "      <td>0.00</td>\n",
       "      <td>NaN</td>\n",
       "      <td>NaN</td>\n",
       "      <td>NaN</td>\n",
       "      <td>NaN</td>\n",
       "    </tr>\n",
       "    <tr>\n",
       "      <th>#203B-0125</th>\n",
       "      <td>NaN</td>\n",
       "      <td>62.32</td>\n",
       "      <td>NaN</td>\n",
       "      <td>NaN</td>\n",
       "      <td>NaN</td>\n",
       "      <td>NaN</td>\n",
       "    </tr>\n",
       "    <tr>\n",
       "      <th>#204B-0300</th>\n",
       "      <td>218.82</td>\n",
       "      <td>NaN</td>\n",
       "      <td>NaN</td>\n",
       "      <td>NaN</td>\n",
       "      <td>NaN</td>\n",
       "      <td>NaN</td>\n",
       "    </tr>\n",
       "  </tbody>\n",
       "</table>\n",
       "</div>"
      ],
      "text/plain": [
       "Year               2011    2012  2013    2014    2015  2016\n",
       "Item                                                       \n",
       "#104A-0019-0031     NaN     NaN   NaN   65.52     NaN   NaN\n",
       "#104A-0019-0050     NaN     NaN   NaN   10.00  144.00   NaN\n",
       "#104A-0019-0056     NaN   61.19   NaN  226.86   24.48   NaN\n",
       "#104A-0025-0031     NaN     NaN   NaN   59.32     NaN   NaN\n",
       "#104A-0025-0056     NaN     NaN   NaN   88.88  993.60   NaN\n",
       "#104A-0031-0112     NaN     NaN   NaN     NaN   51.30   NaN\n",
       "#104K-0300          NaN  213.28   NaN     NaN     NaN   NaN\n",
       "#203B-0044          NaN    0.00   NaN     NaN     NaN   NaN\n",
       "#203B-0125          NaN   62.32   NaN     NaN     NaN   NaN\n",
       "#204B-0300       218.82     NaN   NaN     NaN     NaN   NaN"
      ]
     },
     "execution_count": 20,
     "metadata": {},
     "output_type": "execute_result"
    }
   ],
   "source": [
    "sum_sales = CVG.pivot_table(index = ['Item'], columns = ['Year'], values = 'Extended_Net_Sales', aggfunc = 'sum')\n",
    "sum_sales[:10]"
   ]
  },
  {
   "cell_type": "code",
   "execution_count": 21,
   "metadata": {
    "collapsed": false
   },
   "outputs": [
    {
     "data": {
      "text/plain": [
       "Item\n",
       "119303      1115726.99\n",
       "367509       556897.44\n",
       "421345       455509.34\n",
       "419690       447874.58\n",
       "406517DK     397092.50\n",
       "Name: Extended_Net_Sales, dtype: float64"
      ]
     },
     "execution_count": 21,
     "metadata": {},
     "output_type": "execute_result"
    }
   ],
   "source": [
    "sales_by_item = CVG.pivot_table(index = ['Item'], values = 'Extended_Net_Sales', aggfunc = 'sum')\n",
    "top_items = sales_by_item.sort_values(ascending = False)\n",
    "top_items.head()"
   ]
  },
  {
   "cell_type": "code",
   "execution_count": 23,
   "metadata": {
    "collapsed": false
   },
   "outputs": [
    {
     "data": {
      "text/plain": [
       "(array([  1.51707000e+05,   2.99000000e+03,   7.70000000e+01,\n",
       "          2.30000000e+01,   1.20000000e+01,   9.00000000e+00,\n",
       "          4.00000000e+00,   2.00000000e+00,   2.00000000e+00,\n",
       "          1.00000000e+00]),\n",
       " array([ -15411.76 ,    4010.173,   23432.106,   42854.039,   62275.972,\n",
       "          81697.905,  101119.838,  120541.771,  139963.704,  159385.637,\n",
       "         178807.57 ]),\n",
       " <a list of 10 Patch objects>)"
      ]
     },
     "execution_count": 23,
     "metadata": {},
     "output_type": "execute_result"
    },
    {
     "data": {
      "image/png": "[encoded data removed]",
      "text/plain": [
       "<matplotlib.figure.Figure at 0x1134ed150>"
      ]
     },
     "metadata": {},
     "output_type": "display_data"
    }
   ],
   "source": [
    "%matplotlib inline\n",
    "\n",
    "import matplotlib.pyplot as plt\n",
    "\n",
    "plt.hist(CVG.Extended_Net_Sales)"
   ]
  },
  {
   "cell_type": "code",
   "execution_count": 42,
   "metadata": {
    "collapsed": false
   },
   "outputs": [
    {
     "name": "stderr",
     "output_type": "stream",
     "text": [
      "/Users/GS7271/anaconda/lib/python2.7/site-packages/sklearn/preprocessing/data.py:586: DeprecationWarning: Passing 1d arrays as data is deprecated in 0.17 and will raise ValueError in 0.19. Reshape your data either using X.reshape(-1, 1) if your data has a single feature or X.reshape(1, -1) if it contains a single sample.\n",
      "  warnings.warn(DEPRECATION_MSG_1D, DeprecationWarning)\n",
      "/Users/GS7271/anaconda/lib/python2.7/site-packages/sklearn/preprocessing/data.py:649: DeprecationWarning: Passing 1d arrays as data is deprecated in 0.17 and will raise ValueError in 0.19. Reshape your data either using X.reshape(-1, 1) if your data has a single feature or X.reshape(1, -1) if it contains a single sample.\n",
      "  warnings.warn(DEPRECATION_MSG_1D, DeprecationWarning)\n"
     ]
    }
   ],
   "source": [
    "from sklearn.preprocessing import StandardScaler\n",
    "scaler = StandardScaler()\n",
    "CVG['Std_Sales'] = scaler.fit_transform(CVG.Extended_Net_Sales)"
   ]
  },
  {
   "cell_type": "code",
   "execution_count": 43,
   "metadata": {
    "collapsed": false
   },
   "outputs": [
    {
     "data": {
      "text/plain": [
       "(array([  1.51707000e+05,   2.99000000e+03,   7.70000000e+01,\n",
       "          2.30000000e+01,   1.20000000e+01,   9.00000000e+00,\n",
       "          4.00000000e+00,   2.00000000e+00,   2.00000000e+00,\n",
       "          1.00000000e+00]),\n",
       " array([ -7.66612271,   1.63161915,  10.929361  ,  20.22710286,\n",
       "         29.52484472,  38.82258657,  48.12032843,  57.41807029,\n",
       "         66.71581214,  76.013554  ,  85.31129586]),\n",
       " <a list of 10 Patch objects>)"
      ]
     },
     "execution_count": 43,
     "metadata": {},
     "output_type": "execute_result"
    },
    {
     "data": {
      "image/png": "[encoded data removed]",
      "text/plain": [
       "<matplotlib.figure.Figure at 0x11719af50>"
      ]
     },
     "metadata": {},
     "output_type": "display_data"
    }
   ],
   "source": [
    "plt.hist(CVG.Std_Sales)"
   ]
  },
  {
   "cell_type": "code",
   "execution_count": 60,
   "metadata": {
    "collapsed": false
   },
   "outputs": [
    {
     "name": "stdout",
     "output_type": "stream",
     "text": [
      "(154827, 3)\n"
     ]
    }
   ],
   "source": [
    "df = CVG[['Order', 'Item', 'Std_Sales']]\n",
    "print(df.shape)"
   ]
  },
  {
   "cell_type": "code",
   "execution_count": 45,
   "metadata": {
    "collapsed": true
   },
   "outputs": [],
   "source": [
    "from os import path\n",
    "import graphlab as gl\n",
    "from datetime import datetime"
   ]
  },
  {
   "cell_type": "code",
   "execution_count": 48,
   "metadata": {
    "collapsed": false
   },
   "outputs": [],
   "source": [
    "data_gl = gl.SFrame(df)"
   ]
  },
  {
   "cell_type": "code",
   "execution_count": 59,
   "metadata": {
    "collapsed": false
   },
   "outputs": [
    {
     "data": {
      "text/html": [
       "<div style=\"max-height:1000px;max-width:1500px;overflow:auto;\"><table frame=\"box\" rules=\"cols\">\n",
       "    <tr>\n",
       "        <th style=\"padding-left: 1em; padding-right: 1em; text-align: center\">Item</th>\n",
       "        <th style=\"padding-left: 1em; padding-right: 1em; text-align: center\">Count</th>\n",
       "    </tr>\n",
       "    <tr>\n",
       "        <td style=\"padding-left: 1em; padding-right: 1em; text-align: center; vertical-align: top\">314586</td>\n",
       "        <td style=\"padding-left: 1em; padding-right: 1em; text-align: center; vertical-align: top\">399</td>\n",
       "    </tr>\n",
       "    <tr>\n",
       "        <td style=\"padding-left: 1em; padding-right: 1em; text-align: center; vertical-align: top\">160576</td>\n",
       "        <td style=\"padding-left: 1em; padding-right: 1em; text-align: center; vertical-align: top\">401</td>\n",
       "    </tr>\n",
       "    <tr>\n",
       "        <td style=\"padding-left: 1em; padding-right: 1em; text-align: center; vertical-align: top\">AMA213AMS-7276</td>\n",
       "        <td style=\"padding-left: 1em; padding-right: 1em; text-align: center; vertical-align: top\">403</td>\n",
       "    </tr>\n",
       "    <tr>\n",
       "        <td style=\"padding-left: 1em; padding-right: 1em; text-align: center; vertical-align: top\">278831</td>\n",
       "        <td style=\"padding-left: 1em; padding-right: 1em; text-align: center; vertical-align: top\">463</td>\n",
       "    </tr>\n",
       "    <tr>\n",
       "        <td style=\"padding-left: 1em; padding-right: 1em; text-align: center; vertical-align: top\">167468</td>\n",
       "        <td style=\"padding-left: 1em; padding-right: 1em; text-align: center; vertical-align: top\">486</td>\n",
       "    </tr>\n",
       "    <tr>\n",
       "        <td style=\"padding-left: 1em; padding-right: 1em; text-align: center; vertical-align: top\">VMCVC33A1</td>\n",
       "        <td style=\"padding-left: 1em; padding-right: 1em; text-align: center; vertical-align: top\">545</td>\n",
       "    </tr>\n",
       "    <tr>\n",
       "        <td style=\"padding-left: 1em; padding-right: 1em; text-align: center; vertical-align: top\">372321</td>\n",
       "        <td style=\"padding-left: 1em; padding-right: 1em; text-align: center; vertical-align: top\">602</td>\n",
       "    </tr>\n",
       "    <tr>\n",
       "        <td style=\"padding-left: 1em; padding-right: 1em; text-align: center; vertical-align: top\">372320</td>\n",
       "        <td style=\"padding-left: 1em; padding-right: 1em; text-align: center; vertical-align: top\">619</td>\n",
       "    </tr>\n",
       "    <tr>\n",
       "        <td style=\"padding-left: 1em; padding-right: 1em; text-align: center; vertical-align: top\">243718</td>\n",
       "        <td style=\"padding-left: 1em; padding-right: 1em; text-align: center; vertical-align: top\">704</td>\n",
       "    </tr>\n",
       "    <tr>\n",
       "        <td style=\"padding-left: 1em; padding-right: 1em; text-align: center; vertical-align: top\">190190</td>\n",
       "        <td style=\"padding-left: 1em; padding-right: 1em; text-align: center; vertical-align: top\">1245</td>\n",
       "    </tr>\n",
       "</table>\n",
       "[10 rows x 2 columns]<br/>\n",
       "</div>"
      ],
      "text/plain": [
       "Columns:\n",
       "\tItem\tstr\n",
       "\tCount\tint\n",
       "\n",
       "Rows: 10\n",
       "\n",
       "Data:\n",
       "+----------------+-------+\n",
       "|      Item      | Count |\n",
       "+----------------+-------+\n",
       "|     314586     |  399  |\n",
       "|     160576     |  401  |\n",
       "| AMA213AMS-7276 |  403  |\n",
       "|     278831     |  463  |\n",
       "|     167468     |  486  |\n",
       "|   VMCVC33A1    |  545  |\n",
       "|     372321     |  602  |\n",
       "|     372320     |  619  |\n",
       "|     243718     |  704  |\n",
       "|     190190     |  1245 |\n",
       "+----------------+-------+\n",
       "[10 rows x 2 columns]"
      ]
     },
     "execution_count": 59,
     "metadata": {},
     "output_type": "execute_result"
    }
   ],
   "source": [
    "rare_items = data_gl.groupby('Item', gl.aggregate.COUNT).sort('Count')\n",
    "rare_items.tail()"
   ]
  },
  {
   "cell_type": "code",
   "execution_count": 61,
   "metadata": {
    "collapsed": false
   },
   "outputs": [],
   "source": [
    "rare_items = rare_items[rare_items['Count'] <= 50]\n",
    "data_gl = data_gl.filter_by(rare_items['Item'], 'Item', exclude = True)"
   ]
  },
  {
   "cell_type": "code",
   "execution_count": 62,
   "metadata": {
    "collapsed": false
   },
   "outputs": [
    {
     "name": "stdout",
     "output_type": "stream",
     "text": [
      "(48492, 3)\n"
     ]
    }
   ],
   "source": [
    "print(data_gl.shape)"
   ]
  },
  {
   "cell_type": "code",
   "execution_count": 63,
   "metadata": {
    "collapsed": false
   },
   "outputs": [
    {
     "data": {
      "text/html": [
       "<pre>Recsys training: model = ranking_factorization_recommender</pre>"
      ],
      "text/plain": [
       "Recsys training: model = ranking_factorization_recommender"
      ]
     },
     "metadata": {},
     "output_type": "display_data"
    },
    {
     "data": {
      "text/html": [
       "<pre>Preparing data set.</pre>"
      ],
      "text/plain": [
       "Preparing data set."
      ]
     },
     "metadata": {},
     "output_type": "display_data"
    },
    {
     "data": {
      "text/html": [
       "<pre>    Data has 48492 observations with 28405 users and 423 items.</pre>"
      ],
      "text/plain": [
       "    Data has 48492 observations with 28405 users and 423 items."
      ]
     },
     "metadata": {},
     "output_type": "display_data"
    },
    {
     "data": {
      "text/html": [
       "<pre>    Data prepared in: 0.093565s</pre>"
      ],
      "text/plain": [
       "    Data prepared in: 0.093565s"
      ]
     },
     "metadata": {},
     "output_type": "display_data"
    },
    {
     "data": {
      "text/html": [
       "<pre>Training ranking_factorization_recommender for recommendations.</pre>"
      ],
      "text/plain": [
       "Training ranking_factorization_recommender for recommendations."
      ]
     },
     "metadata": {},
     "output_type": "display_data"
    },
    {
     "data": {
      "text/html": [
       "<pre>+--------------------------------+--------------------------------------------------+----------+</pre>"
      ],
      "text/plain": [
       "+--------------------------------+--------------------------------------------------+----------+"
      ]
     },
     "metadata": {},
     "output_type": "display_data"
    },
    {
     "data": {
      "text/html": [
       "<pre>| Parameter                      | Description                                      | Value    |</pre>"
      ],
      "text/plain": [
       "| Parameter                      | Description                                      | Value    |"
      ]
     },
     "metadata": {},
     "output_type": "display_data"
    },
    {
     "data": {
      "text/html": [
       "<pre>+--------------------------------+--------------------------------------------------+----------+</pre>"
      ],
      "text/plain": [
       "+--------------------------------+--------------------------------------------------+----------+"
      ]
     },
     "metadata": {},
     "output_type": "display_data"
    },
    {
     "data": {
      "text/html": [
       "<pre>| num_factors                    | Factor Dimension                                 | 32       |</pre>"
      ],
      "text/plain": [
       "| num_factors                    | Factor Dimension                                 | 32       |"
      ]
     },
     "metadata": {},
     "output_type": "display_data"
    },
    {
     "data": {
      "text/html": [
       "<pre>| regularization                 | L2 Regularization on Factors                     | 1e-09    |</pre>"
      ],
      "text/plain": [
       "| regularization                 | L2 Regularization on Factors                     | 1e-09    |"
      ]
     },
     "metadata": {},
     "output_type": "display_data"
    },
    {
     "data": {
      "text/html": [
       "<pre>| solver                         | Solver used for training                         | sgd      |</pre>"
      ],
      "text/plain": [
       "| solver                         | Solver used for training                         | sgd      |"
      ]
     },
     "metadata": {},
     "output_type": "display_data"
    },
    {
     "data": {
      "text/html": [
       "<pre>| linear_regularization          | L2 Regularization on Linear Coefficients         | 1e-09    |</pre>"
      ],
      "text/plain": [
       "| linear_regularization          | L2 Regularization on Linear Coefficients         | 1e-09    |"
      ]
     },
     "metadata": {},
     "output_type": "display_data"
    },
    {
     "data": {
      "text/html": [
       "<pre>| ranking_regularization         | Rank-based Regularization Weight                 | 0.25     |</pre>"
      ],
      "text/plain": [
       "| ranking_regularization         | Rank-based Regularization Weight                 | 0.25     |"
      ]
     },
     "metadata": {},
     "output_type": "display_data"
    },
    {
     "data": {
      "text/html": [
       "<pre>| max_iterations                 | Maximum Number of Iterations                     | 25       |</pre>"
      ],
      "text/plain": [
       "| max_iterations                 | Maximum Number of Iterations                     | 25       |"
      ]
     },
     "metadata": {},
     "output_type": "display_data"
    },
    {
     "data": {
      "text/html": [
       "<pre>+--------------------------------+--------------------------------------------------+----------+</pre>"
      ],
      "text/plain": [
       "+--------------------------------+--------------------------------------------------+----------+"
      ]
     },
     "metadata": {},
     "output_type": "display_data"
    },
    {
     "data": {
      "text/html": [
       "<pre>  Optimizing model using SGD; tuning step size.</pre>"
      ],
      "text/plain": [
       "  Optimizing model using SGD; tuning step size."
      ]
     },
     "metadata": {},
     "output_type": "display_data"
    },
    {
     "data": {
      "text/html": [
       "<pre>  Using 10000 / 48492 points for tuning the step size.</pre>"
      ],
      "text/plain": [
       "  Using 10000 / 48492 points for tuning the step size."
      ]
     },
     "metadata": {},
     "output_type": "display_data"
    },
    {
     "data": {
      "text/html": [
       "<pre>+---------+-------------------+------------------------------------------+</pre>"
      ],
      "text/plain": [
       "+---------+-------------------+------------------------------------------+"
      ]
     },
     "metadata": {},
     "output_type": "display_data"
    },
    {
     "data": {
      "text/html": [
       "<pre>| Attempt | Initial Step Size | Estimated Objective Value                |</pre>"
      ],
      "text/plain": [
       "| Attempt | Initial Step Size | Estimated Objective Value                |"
      ]
     },
     "metadata": {},
     "output_type": "display_data"
    },
    {
     "data": {
      "text/html": [
       "<pre>+---------+-------------------+------------------------------------------+</pre>"
      ],
      "text/plain": [
       "+---------+-------------------+------------------------------------------+"
      ]
     },
     "metadata": {},
     "output_type": "display_data"
    },
    {
     "data": {
      "text/html": [
       "<pre>| 0       | 25                | Not Viable                               |</pre>"
      ],
      "text/plain": [
       "| 0       | 25                | Not Viable                               |"
      ]
     },
     "metadata": {},
     "output_type": "display_data"
    },
    {
     "data": {
      "text/html": [
       "<pre>| 1       | 6.25              | Not Viable                               |</pre>"
      ],
      "text/plain": [
       "| 1       | 6.25              | Not Viable                               |"
      ]
     },
     "metadata": {},
     "output_type": "display_data"
    },
    {
     "data": {
      "text/html": [
       "<pre>| 2       | 1.5625            | Not Viable                               |</pre>"
      ],
      "text/plain": [
       "| 2       | 1.5625            | Not Viable                               |"
      ]
     },
     "metadata": {},
     "output_type": "display_data"
    },
    {
     "data": {
      "text/html": [
       "<pre>| 3       | 0.390625          | 0.275569                                 |</pre>"
      ],
      "text/plain": [
       "| 3       | 0.390625          | 0.275569                                 |"
      ]
     },
     "metadata": {},
     "output_type": "display_data"
    },
    {
     "data": {
      "text/html": [
       "<pre>| 4       | 0.195312          | 0.216788                                 |</pre>"
      ],
      "text/plain": [
       "| 4       | 0.195312          | 0.216788                                 |"
      ]
     },
     "metadata": {},
     "output_type": "display_data"
    },
    {
     "data": {
      "text/html": [
       "<pre>| 5       | 0.0976562         | 0.257973                                 |</pre>"
      ],
      "text/plain": [
       "| 5       | 0.0976562         | 0.257973                                 |"
      ]
     },
     "metadata": {},
     "output_type": "display_data"
    },
    {
     "data": {
      "text/html": [
       "<pre>| 6       | 0.0488281         | 0.281762                                 |</pre>"
      ],
      "text/plain": [
       "| 6       | 0.0488281         | 0.281762                                 |"
      ]
     },
     "metadata": {},
     "output_type": "display_data"
    },
    {
     "data": {
      "text/html": [
       "<pre>| 7       | 0.0244141         | 0.306029                                 |</pre>"
      ],
      "text/plain": [
       "| 7       | 0.0244141         | 0.306029                                 |"
      ]
     },
     "metadata": {},
     "output_type": "display_data"
    },
    {
     "data": {
      "text/html": [
       "<pre>+---------+-------------------+------------------------------------------+</pre>"
      ],
      "text/plain": [
       "+---------+-------------------+------------------------------------------+"
      ]
     },
     "metadata": {},
     "output_type": "display_data"
    },
    {
     "data": {
      "text/html": [
       "<pre>| Final   | 0.195312          | 0.216788                                 |</pre>"
      ],
      "text/plain": [
       "| Final   | 0.195312          | 0.216788                                 |"
      ]
     },
     "metadata": {},
     "output_type": "display_data"
    },
    {
     "data": {
      "text/html": [
       "<pre>+---------+-------------------+------------------------------------------+</pre>"
      ],
      "text/plain": [
       "+---------+-------------------+------------------------------------------+"
      ]
     },
     "metadata": {},
     "output_type": "display_data"
    },
    {
     "data": {
      "text/html": [
       "<pre>Starting Optimization.</pre>"
      ],
      "text/plain": [
       "Starting Optimization."
      ]
     },
     "metadata": {},
     "output_type": "display_data"
    },
    {
     "data": {
      "text/html": [
       "<pre>+---------+--------------+-------------------+-----------------------+-------------+</pre>"
      ],
      "text/plain": [
       "+---------+--------------+-------------------+-----------------------+-------------+"
      ]
     },
     "metadata": {},
     "output_type": "display_data"
    },
    {
     "data": {
      "text/html": [
       "<pre>| Iter.   | Elapsed Time | Approx. Objective | Approx. Training RMSE | Step Size   |</pre>"
      ],
      "text/plain": [
       "| Iter.   | Elapsed Time | Approx. Objective | Approx. Training RMSE | Step Size   |"
      ]
     },
     "metadata": {},
     "output_type": "display_data"
    },
    {
     "data": {
      "text/html": [
       "<pre>+---------+--------------+-------------------+-----------------------+-------------+</pre>"
      ],
      "text/plain": [
       "+---------+--------------+-------------------+-----------------------+-------------+"
      ]
     },
     "metadata": {},
     "output_type": "display_data"
    },
    {
     "data": {
      "text/html": [
       "<pre>| Initial | 90us         | 0.3721            | 0.435596              |             |</pre>"
      ],
      "text/plain": [
       "| Initial | 90us         | 0.3721            | 0.435596              |             |"
      ]
     },
     "metadata": {},
     "output_type": "display_data"
    },
    {
     "data": {
      "text/html": [
       "<pre>+---------+--------------+-------------------+-----------------------+-------------+</pre>"
      ],
      "text/plain": [
       "+---------+--------------+-------------------+-----------------------+-------------+"
      ]
     },
     "metadata": {},
     "output_type": "display_data"
    },
    {
     "data": {
      "text/html": [
       "<pre>| 1       | 37.592ms     | 0.372652          | 0.472534              | 0.195312    |</pre>"
      ],
      "text/plain": [
       "| 1       | 37.592ms     | 0.372652          | 0.472534              | 0.195312    |"
      ]
     },
     "metadata": {},
     "output_type": "display_data"
    },
    {
     "data": {
      "text/html": [
       "<pre>| 2       | 66.869ms     | 0.356471          | 0.45612               | 0.116134    |</pre>"
      ],
      "text/plain": [
       "| 2       | 66.869ms     | 0.356471          | 0.45612               | 0.116134    |"
      ]
     },
     "metadata": {},
     "output_type": "display_data"
    },
    {
     "data": {
      "text/html": [
       "<pre>| 3       | 100.783ms    | 0.300725          | 0.400344              | 0.0856819   |</pre>"
      ],
      "text/plain": [
       "| 3       | 100.783ms    | 0.300725          | 0.400344              | 0.0856819   |"
      ]
     },
     "metadata": {},
     "output_type": "display_data"
    },
    {
     "data": {
      "text/html": [
       "<pre>| 4       | 132.844ms    | 0.268115          | 0.367449              | 0.0580668   |</pre>"
      ],
      "text/plain": [
       "| 4       | 132.844ms    | 0.268115          | 0.367449              | 0.0580668   |"
      ]
     },
     "metadata": {},
     "output_type": "display_data"
    },
    {
     "data": {
      "text/html": [
       "<pre>| 5       | 166.138ms    | 0.227748          | 0.312428              | 0.0491185   |</pre>"
      ],
      "text/plain": [
       "| 5       | 166.138ms    | 0.227748          | 0.312428              | 0.0491185   |"
      ]
     },
     "metadata": {},
     "output_type": "display_data"
    },
    {
     "data": {
      "text/html": [
       "<pre>| 6       | 197.225ms    | 0.198959          | 0.270932              | 0.042841    |</pre>"
      ],
      "text/plain": [
       "| 6       | 197.225ms    | 0.198959          | 0.270932              | 0.042841    |"
      ]
     },
     "metadata": {},
     "output_type": "display_data"
    },
    {
     "data": {
      "text/html": [
       "<pre>| 11      | 348.686ms    | 0.151553          | 0.202923              | 0.0271912   |</pre>"
      ],
      "text/plain": [
       "| 11      | 348.686ms    | 0.151553          | 0.202923              | 0.0271912   |"
      ]
     },
     "metadata": {},
     "output_type": "display_data"
    },
    {
     "data": {
      "text/html": [
       "<pre>+---------+--------------+-------------------+-----------------------+-------------+</pre>"
      ],
      "text/plain": [
       "+---------+--------------+-------------------+-----------------------+-------------+"
      ]
     },
     "metadata": {},
     "output_type": "display_data"
    },
    {
     "data": {
      "text/html": [
       "<pre>Optimization Complete: Maximum number of passes through the data reached.</pre>"
      ],
      "text/plain": [
       "Optimization Complete: Maximum number of passes through the data reached."
      ]
     },
     "metadata": {},
     "output_type": "display_data"
    },
    {
     "data": {
      "text/html": [
       "<pre>Computing final objective value and training RMSE.</pre>"
      ],
      "text/plain": [
       "Computing final objective value and training RMSE."
      ]
     },
     "metadata": {},
     "output_type": "display_data"
    },
    {
     "data": {
      "text/html": [
       "<pre>       Final objective value: 0.113459</pre>"
      ],
      "text/plain": [
       "       Final objective value: 0.113459"
      ]
     },
     "metadata": {},
     "output_type": "display_data"
    },
    {
     "data": {
      "text/html": [
       "<pre>       Final training RMSE: 0.166159</pre>"
      ],
      "text/plain": [
       "       Final training RMSE: 0.166159"
      ]
     },
     "metadata": {},
     "output_type": "display_data"
    },
    {
     "data": {
      "text/html": [
       "<pre>recommendations finished on 1000/28405 queries. users per second: 169837</pre>"
      ],
      "text/plain": [
       "recommendations finished on 1000/28405 queries. users per second: 169837"
      ]
     },
     "metadata": {},
     "output_type": "display_data"
    },
    {
     "data": {
      "text/html": [
       "<pre>recommendations finished on 2000/28405 queries. users per second: 158567</pre>"
      ],
      "text/plain": [
       "recommendations finished on 2000/28405 queries. users per second: 158567"
      ]
     },
     "metadata": {},
     "output_type": "display_data"
    },
    {
     "data": {
      "text/html": [
       "<pre>recommendations finished on 3000/28405 queries. users per second: 146980</pre>"
      ],
      "text/plain": [
       "recommendations finished on 3000/28405 queries. users per second: 146980"
      ]
     },
     "metadata": {},
     "output_type": "display_data"
    },
    {
     "data": {
      "text/html": [
       "<pre>recommendations finished on 4000/28405 queries. users per second: 143709</pre>"
      ],
      "text/plain": [
       "recommendations finished on 4000/28405 queries. users per second: 143709"
      ]
     },
     "metadata": {},
     "output_type": "display_data"
    },
    {
     "data": {
      "text/html": [
       "<pre>recommendations finished on 5000/28405 queries. users per second: 138935</pre>"
      ],
      "text/plain": [
       "recommendations finished on 5000/28405 queries. users per second: 138935"
      ]
     },
     "metadata": {},
     "output_type": "display_data"
    },
    {
     "data": {
      "text/html": [
       "<pre>recommendations finished on 6000/28405 queries. users per second: 137250</pre>"
      ],
      "text/plain": [
       "recommendations finished on 6000/28405 queries. users per second: 137250"
      ]
     },
     "metadata": {},
     "output_type": "display_data"
    },
    {
     "data": {
      "text/html": [
       "<pre>recommendations finished on 7000/28405 queries. users per second: 140862</pre>"
      ],
      "text/plain": [
       "recommendations finished on 7000/28405 queries. users per second: 140862"
      ]
     },
     "metadata": {},
     "output_type": "display_data"
    },
    {
     "data": {
      "text/html": [
       "<pre>recommendations finished on 8000/28405 queries. users per second: 140959</pre>"
      ],
      "text/plain": [
       "recommendations finished on 8000/28405 queries. users per second: 140959"
      ]
     },
     "metadata": {},
     "output_type": "display_data"
    },
    {
     "data": {
      "text/html": [
       "<pre>recommendations finished on 9000/28405 queries. users per second: 141163</pre>"
      ],
      "text/plain": [
       "recommendations finished on 9000/28405 queries. users per second: 141163"
      ]
     },
     "metadata": {},
     "output_type": "display_data"
    },
    {
     "data": {
      "text/html": [
       "<pre>recommendations finished on 10000/28405 queries. users per second: 139852</pre>"
      ],
      "text/plain": [
       "recommendations finished on 10000/28405 queries. users per second: 139852"
      ]
     },
     "metadata": {},
     "output_type": "display_data"
    },
    {
     "data": {
      "text/html": [
       "<pre>recommendations finished on 11000/28405 queries. users per second: 138840</pre>"
      ],
      "text/plain": [
       "recommendations finished on 11000/28405 queries. users per second: 138840"
      ]
     },
     "metadata": {},
     "output_type": "display_data"
    },
    {
     "data": {
      "text/html": [
       "<pre>recommendations finished on 12000/28405 queries. users per second: 136345</pre>"
      ],
      "text/plain": [
       "recommendations finished on 12000/28405 queries. users per second: 136345"
      ]
     },
     "metadata": {},
     "output_type": "display_data"
    },
    {
     "data": {
      "text/html": [
       "<pre>recommendations finished on 13000/28405 queries. users per second: 135773</pre>"
      ],
      "text/plain": [
       "recommendations finished on 13000/28405 queries. users per second: 135773"
      ]
     },
     "metadata": {},
     "output_type": "display_data"
    },
    {
     "data": {
      "text/html": [
       "<pre>recommendations finished on 14000/28405 queries. users per second: 134757</pre>"
      ],
      "text/plain": [
       "recommendations finished on 14000/28405 queries. users per second: 134757"
      ]
     },
     "metadata": {},
     "output_type": "display_data"
    },
    {
     "data": {
      "text/html": [
       "<pre>recommendations finished on 15000/28405 queries. users per second: 134633</pre>"
      ],
      "text/plain": [
       "recommendations finished on 15000/28405 queries. users per second: 134633"
      ]
     },
     "metadata": {},
     "output_type": "display_data"
    },
    {
     "data": {
      "text/html": [
       "<pre>recommendations finished on 16000/28405 queries. users per second: 135522</pre>"
      ],
      "text/plain": [
       "recommendations finished on 16000/28405 queries. users per second: 135522"
      ]
     },
     "metadata": {},
     "output_type": "display_data"
    },
    {
     "data": {
      "text/html": [
       "<pre>recommendations finished on 17000/28405 queries. users per second: 134814</pre>"
      ],
      "text/plain": [
       "recommendations finished on 17000/28405 queries. users per second: 134814"
      ]
     },
     "metadata": {},
     "output_type": "display_data"
    },
    {
     "data": {
      "text/html": [
       "<pre>recommendations finished on 18000/28405 queries. users per second: 133734</pre>"
      ],
      "text/plain": [
       "recommendations finished on 18000/28405 queries. users per second: 133734"
      ]
     },
     "metadata": {},
     "output_type": "display_data"
    },
    {
     "data": {
      "text/html": [
       "<pre>recommendations finished on 19000/28405 queries. users per second: 133394</pre>"
      ],
      "text/plain": [
       "recommendations finished on 19000/28405 queries. users per second: 133394"
      ]
     },
     "metadata": {},
     "output_type": "display_data"
    },
    {
     "data": {
      "text/html": [
       "<pre>recommendations finished on 20000/28405 queries. users per second: 134179</pre>"
      ],
      "text/plain": [
       "recommendations finished on 20000/28405 queries. users per second: 134179"
      ]
     },
     "metadata": {},
     "output_type": "display_data"
    },
    {
     "data": {
      "text/html": [
       "<pre>recommendations finished on 21000/28405 queries. users per second: 133230</pre>"
      ],
      "text/plain": [
       "recommendations finished on 21000/28405 queries. users per second: 133230"
      ]
     },
     "metadata": {},
     "output_type": "display_data"
    },
    {
     "data": {
      "text/html": [
       "<pre>recommendations finished on 22000/28405 queries. users per second: 134120</pre>"
      ],
      "text/plain": [
       "recommendations finished on 22000/28405 queries. users per second: 134120"
      ]
     },
     "metadata": {},
     "output_type": "display_data"
    },
    {
     "data": {
      "text/html": [
       "<pre>recommendations finished on 23000/28405 queries. users per second: 130199</pre>"
      ],
      "text/plain": [
       "recommendations finished on 23000/28405 queries. users per second: 130199"
      ]
     },
     "metadata": {},
     "output_type": "display_data"
    },
    {
     "data": {
      "text/html": [
       "<pre>recommendations finished on 24000/28405 queries. users per second: 130916</pre>"
      ],
      "text/plain": [
       "recommendations finished on 24000/28405 queries. users per second: 130916"
      ]
     },
     "metadata": {},
     "output_type": "display_data"
    },
    {
     "data": {
      "text/html": [
       "<pre>recommendations finished on 25000/28405 queries. users per second: 125027</pre>"
      ],
      "text/plain": [
       "recommendations finished on 25000/28405 queries. users per second: 125027"
      ]
     },
     "metadata": {},
     "output_type": "display_data"
    },
    {
     "data": {
      "text/html": [
       "<pre>recommendations finished on 26000/28405 queries. users per second: 118316</pre>"
      ],
      "text/plain": [
       "recommendations finished on 26000/28405 queries. users per second: 118316"
      ]
     },
     "metadata": {},
     "output_type": "display_data"
    },
    {
     "data": {
      "text/html": [
       "<pre>recommendations finished on 27000/28405 queries. users per second: 113716</pre>"
      ],
      "text/plain": [
       "recommendations finished on 27000/28405 queries. users per second: 113716"
      ]
     },
     "metadata": {},
     "output_type": "display_data"
    },
    {
     "data": {
      "text/html": [
       "<pre>recommendations finished on 28000/28405 queries. users per second: 109696</pre>"
      ],
      "text/plain": [
       "recommendations finished on 28000/28405 queries. users per second: 109696"
      ]
     },
     "metadata": {},
     "output_type": "display_data"
    }
   ],
   "source": [
    "model = gl.recommender.create(data_gl, \n",
    "                              user_id = \"Order\", \n",
    "                              item_id = \"Item\", \n",
    "                              target = \"Std_Sales\")\n",
    "results = model.recommend(users = None, k = 15)\n",
    "model.save(\"order_item\")"
   ]
  },
  {
   "cell_type": "code",
   "execution_count": 66,
   "metadata": {
    "collapsed": false
   },
   "outputs": [
    {
     "name": "stdout",
     "output_type": "stream",
     "text": [
      "+---------+----------------+-----------------+------+\n",
      "|  Order  |      Item      |      score      | rank |\n",
      "+---------+----------------+-----------------+------+\n",
      "| A095963 |     167468     | -0.140059113687 |  1   |\n",
      "| A095963 |    THOSPB-8    | -0.171666830963 |  2   |\n",
      "| A095963 |   245546ASSY   | -0.185987264102 |  3   |\n",
      "| A095963 |     193650     | -0.192872643655 |  4   |\n",
      "| A095963 |     165246     | -0.215465605443 |  5   |\n",
      "| A095963 |     243718     | -0.228964716381 |  6   |\n",
      "| A095963 |     165408     | -0.234120041317 |  7   |\n",
      "| A095963 |   167387INST   | -0.236875802463 |  8   |\n",
      "| A095963 |     167129     | -0.240374535507 |  9   |\n",
      "| A095963 |   WAD5144-21   | -0.243085757082 |  10  |\n",
      "| A095963 |     190190     |  -0.24601900596 |  11  |\n",
      "| A095963 |     167373     | -0.247224271482 |  12  |\n",
      "| A095963 |    STDCF-16    | -0.247658550924 |  13  |\n",
      "| A095963 |    CMC27525    | -0.249095380491 |  14  |\n",
      "| A095963 |     254197     | -0.250906586832 |  15  |\n",
      "| A096139 |     190190     | -0.196194794214 |  1   |\n",
      "| A096139 |     243718     | -0.294296082294 |  2   |\n",
      "| A096139 |   VMCVC33A1    | -0.343129661119 |  3   |\n",
      "| A096139 |   VMCVC33A2    | -0.372108485734 |  4   |\n",
      "| A096139 |     190064     | -0.380593177116 |  5   |\n",
      "| A096139 |  NUM134-226A   | -0.381226357257 |  6   |\n",
      "| A096139 |     116523     | -0.388548296129 |  7   |\n",
      "| A096139 |   VMCVC33A3    | -0.392763119375 |  8   |\n",
      "| A096139 |  483579-4.25   | -0.393369507229 |  9   |\n",
      "| A096139 |     278831     | -0.394453477299 |  10  |\n",
      "| A096139 | AMA213AMS-7276 | -0.400823068058 |  11  |\n",
      "| A096139 |     167468     | -0.401661645806 |  12  |\n",
      "| A096139 |     359800     | -0.403293442166 |  13  |\n",
      "| A096139 |     140414     | -0.404259037411 |  14  |\n",
      "| A096139 |     273834     | -0.406474482453 |  15  |\n",
      "+---------+----------------+-----------------+------+\n",
      "[426075 rows x 4 columns]\n",
      "\n"
     ]
    }
   ],
   "source": [
    "results.print_rows(30)"
   ]
  },
  {
   "cell_type": "code",
   "execution_count": 67,
   "metadata": {
    "collapsed": false
   },
   "outputs": [
    {
     "name": "stdout",
     "output_type": "stream",
     "text": [
      "0.999999772128\n"
     ]
    }
   ],
   "source": [
    "density= float(data_gl.shape[0])/float(len(pd.unique(data_gl['Order'])) * \n",
    "                                       len(pd.unique(data_gl['Item'])) * \n",
    "                                       len(pd.unique(data_gl['Std_Sales'])))\n",
    "sparsity = 1 - density\n",
    "\n",
    "print(sparsity)"
   ]
  },
  {
   "cell_type": "code",
   "execution_count": 68,
   "metadata": {
    "collapsed": false
   },
   "outputs": [
    {
     "data": {
      "text/html": [
       "<pre>Recsys training: model = item_similarity</pre>"
      ],
      "text/plain": [
       "Recsys training: model = item_similarity"
      ]
     },
     "metadata": {},
     "output_type": "display_data"
    },
    {
     "data": {
      "text/html": [
       "<pre>Preparing data set.</pre>"
      ],
      "text/plain": [
       "Preparing data set."
      ]
     },
     "metadata": {},
     "output_type": "display_data"
    },
    {
     "data": {
      "text/html": [
       "<pre>    Data has 48492 observations with 28405 users and 423 items.</pre>"
      ],
      "text/plain": [
       "    Data has 48492 observations with 28405 users and 423 items."
      ]
     },
     "metadata": {},
     "output_type": "display_data"
    },
    {
     "data": {
      "text/html": [
       "<pre>    Data prepared in: 0.075215s</pre>"
      ],
      "text/plain": [
       "    Data prepared in: 0.075215s"
      ]
     },
     "metadata": {},
     "output_type": "display_data"
    },
    {
     "data": {
      "text/html": [
       "<pre>Training model from provided data.</pre>"
      ],
      "text/plain": [
       "Training model from provided data."
      ]
     },
     "metadata": {},
     "output_type": "display_data"
    },
    {
     "data": {
      "text/html": [
       "<pre>Gathering per-item and per-user statistics.</pre>"
      ],
      "text/plain": [
       "Gathering per-item and per-user statistics."
      ]
     },
     "metadata": {},
     "output_type": "display_data"
    },
    {
     "data": {
      "text/html": [
       "<pre>+--------------------------------+------------+</pre>"
      ],
      "text/plain": [
       "+--------------------------------+------------+"
      ]
     },
     "metadata": {},
     "output_type": "display_data"
    },
    {
     "data": {
      "text/html": [
       "<pre>| Elapsed Time (Item Statistics) | % Complete |</pre>"
      ],
      "text/plain": [
       "| Elapsed Time (Item Statistics) | % Complete |"
      ]
     },
     "metadata": {},
     "output_type": "display_data"
    },
    {
     "data": {
      "text/html": [
       "<pre>+--------------------------------+------------+</pre>"
      ],
      "text/plain": [
       "+--------------------------------+------------+"
      ]
     },
     "metadata": {},
     "output_type": "display_data"
    },
    {
     "data": {
      "text/html": [
       "<pre>| 7.823ms                        | 14         |</pre>"
      ],
      "text/plain": [
       "| 7.823ms                        | 14         |"
      ]
     },
     "metadata": {},
     "output_type": "display_data"
    },
    {
     "data": {
      "text/html": [
       "<pre>| 13.862ms                       | 100        |</pre>"
      ],
      "text/plain": [
       "| 13.862ms                       | 100        |"
      ]
     },
     "metadata": {},
     "output_type": "display_data"
    },
    {
     "data": {
      "text/html": [
       "<pre>+--------------------------------+------------+</pre>"
      ],
      "text/plain": [
       "+--------------------------------+------------+"
      ]
     },
     "metadata": {},
     "output_type": "display_data"
    },
    {
     "data": {
      "text/html": [
       "<pre>Setting up lookup tables.</pre>"
      ],
      "text/plain": [
       "Setting up lookup tables."
      ]
     },
     "metadata": {},
     "output_type": "display_data"
    },
    {
     "data": {
      "text/html": [
       "<pre>Processing data in one pass using dense lookup tables.</pre>"
      ],
      "text/plain": [
       "Processing data in one pass using dense lookup tables."
      ]
     },
     "metadata": {},
     "output_type": "display_data"
    },
    {
     "data": {
      "text/html": [
       "<pre>+-------------------------------------+------------------+-----------------+</pre>"
      ],
      "text/plain": [
       "+-------------------------------------+------------------+-----------------+"
      ]
     },
     "metadata": {},
     "output_type": "display_data"
    },
    {
     "data": {
      "text/html": [
       "<pre>| Elapsed Time (Constructing Lookups) | Total % Complete | Items Processed |</pre>"
      ],
      "text/plain": [
       "| Elapsed Time (Constructing Lookups) | Total % Complete | Items Processed |"
      ]
     },
     "metadata": {},
     "output_type": "display_data"
    },
    {
     "data": {
      "text/html": [
       "<pre>+-------------------------------------+------------------+-----------------+</pre>"
      ],
      "text/plain": [
       "+-------------------------------------+------------------+-----------------+"
      ]
     },
     "metadata": {},
     "output_type": "display_data"
    },
    {
     "data": {
      "text/html": [
       "<pre>| 14.531ms                            | 0                | 0               |</pre>"
      ],
      "text/plain": [
       "| 14.531ms                            | 0                | 0               |"
      ]
     },
     "metadata": {},
     "output_type": "display_data"
    },
    {
     "data": {
      "text/html": [
       "<pre>| 29.001ms                            | 100              | 423             |</pre>"
      ],
      "text/plain": [
       "| 29.001ms                            | 100              | 423             |"
      ]
     },
     "metadata": {},
     "output_type": "display_data"
    },
    {
     "data": {
      "text/html": [
       "<pre>+-------------------------------------+------------------+-----------------+</pre>"
      ],
      "text/plain": [
       "+-------------------------------------+------------------+-----------------+"
      ]
     },
     "metadata": {},
     "output_type": "display_data"
    },
    {
     "data": {
      "text/html": [
       "<pre>Finalizing lookup tables.</pre>"
      ],
      "text/plain": [
       "Finalizing lookup tables."
      ]
     },
     "metadata": {},
     "output_type": "display_data"
    },
    {
     "data": {
      "text/html": [
       "<pre>Generating candidate set for working with new users.</pre>"
      ],
      "text/plain": [
       "Generating candidate set for working with new users."
      ]
     },
     "metadata": {},
     "output_type": "display_data"
    },
    {
     "data": {
      "text/html": [
       "<pre>Finished training in 0.055986s</pre>"
      ],
      "text/plain": [
       "Finished training in 0.055986s"
      ]
     },
     "metadata": {},
     "output_type": "display_data"
    },
    {
     "data": {
      "text/html": [
       "<div style=\"max-height:1000px;max-width:1500px;overflow:auto;\"><table frame=\"box\" rules=\"cols\">\n",
       "    <tr>\n",
       "        <th style=\"padding-left: 1em; padding-right: 1em; text-align: center\">Item</th>\n",
       "        <th style=\"padding-left: 1em; padding-right: 1em; text-align: center\">similar</th>\n",
       "        <th style=\"padding-left: 1em; padding-right: 1em; text-align: center\">score</th>\n",
       "        <th style=\"padding-left: 1em; padding-right: 1em; text-align: center\">rank</th>\n",
       "    </tr>\n",
       "    <tr>\n",
       "        <td style=\"padding-left: 1em; padding-right: 1em; text-align: center; vertical-align: top\">254049</td>\n",
       "        <td style=\"padding-left: 1em; padding-right: 1em; text-align: center; vertical-align: top\">254153</td>\n",
       "        <td style=\"padding-left: 1em; padding-right: 1em; text-align: center; vertical-align: top\">0.120898663998</td>\n",
       "        <td style=\"padding-left: 1em; padding-right: 1em; text-align: center; vertical-align: top\">1</td>\n",
       "    </tr>\n",
       "    <tr>\n",
       "        <td style=\"padding-left: 1em; padding-right: 1em; text-align: center; vertical-align: top\">254049</td>\n",
       "        <td style=\"padding-left: 1em; padding-right: 1em; text-align: center; vertical-align: top\">220570</td>\n",
       "        <td style=\"padding-left: 1em; padding-right: 1em; text-align: center; vertical-align: top\">0.114174485207</td>\n",
       "        <td style=\"padding-left: 1em; padding-right: 1em; text-align: center; vertical-align: top\">2</td>\n",
       "    </tr>\n",
       "    <tr>\n",
       "        <td style=\"padding-left: 1em; padding-right: 1em; text-align: center; vertical-align: top\">254049</td>\n",
       "        <td style=\"padding-left: 1em; padding-right: 1em; text-align: center; vertical-align: top\">328571</td>\n",
       "        <td style=\"padding-left: 1em; padding-right: 1em; text-align: center; vertical-align: top\">0.0566236376762</td>\n",
       "        <td style=\"padding-left: 1em; padding-right: 1em; text-align: center; vertical-align: top\">3</td>\n",
       "    </tr>\n",
       "    <tr>\n",
       "        <td style=\"padding-left: 1em; padding-right: 1em; text-align: center; vertical-align: top\">254049</td>\n",
       "        <td style=\"padding-left: 1em; padding-right: 1em; text-align: center; vertical-align: top\">254038</td>\n",
       "        <td style=\"padding-left: 1em; padding-right: 1em; text-align: center; vertical-align: top\">0.0564288496971</td>\n",
       "        <td style=\"padding-left: 1em; padding-right: 1em; text-align: center; vertical-align: top\">4</td>\n",
       "    </tr>\n",
       "    <tr>\n",
       "        <td style=\"padding-left: 1em; padding-right: 1em; text-align: center; vertical-align: top\">254049</td>\n",
       "        <td style=\"padding-left: 1em; padding-right: 1em; text-align: center; vertical-align: top\">254044</td>\n",
       "        <td style=\"padding-left: 1em; padding-right: 1em; text-align: center; vertical-align: top\">0.0508647561073</td>\n",
       "        <td style=\"padding-left: 1em; padding-right: 1em; text-align: center; vertical-align: top\">5</td>\n",
       "    </tr>\n",
       "    <tr>\n",
       "        <td style=\"padding-left: 1em; padding-right: 1em; text-align: center; vertical-align: top\">254049</td>\n",
       "        <td style=\"padding-left: 1em; padding-right: 1em; text-align: center; vertical-align: top\">167125</td>\n",
       "        <td style=\"padding-left: 1em; padding-right: 1em; text-align: center; vertical-align: top\">0.0508454442024</td>\n",
       "        <td style=\"padding-left: 1em; padding-right: 1em; text-align: center; vertical-align: top\">6</td>\n",
       "    </tr>\n",
       "    <tr>\n",
       "        <td style=\"padding-left: 1em; padding-right: 1em; text-align: center; vertical-align: top\">254049</td>\n",
       "        <td style=\"padding-left: 1em; padding-right: 1em; text-align: center; vertical-align: top\">167124</td>\n",
       "        <td style=\"padding-left: 1em; padding-right: 1em; text-align: center; vertical-align: top\">0.0405848026276</td>\n",
       "        <td style=\"padding-left: 1em; padding-right: 1em; text-align: center; vertical-align: top\">7</td>\n",
       "    </tr>\n",
       "    <tr>\n",
       "        <td style=\"padding-left: 1em; padding-right: 1em; text-align: center; vertical-align: top\">254049</td>\n",
       "        <td style=\"padding-left: 1em; padding-right: 1em; text-align: center; vertical-align: top\">CHN50SK</td>\n",
       "        <td style=\"padding-left: 1em; padding-right: 1em; text-align: center; vertical-align: top\">0.0370730757713</td>\n",
       "        <td style=\"padding-left: 1em; padding-right: 1em; text-align: center; vertical-align: top\">8</td>\n",
       "    </tr>\n",
       "    <tr>\n",
       "        <td style=\"padding-left: 1em; padding-right: 1em; text-align: center; vertical-align: top\">254049</td>\n",
       "        <td style=\"padding-left: 1em; padding-right: 1em; text-align: center; vertical-align: top\">167130</td>\n",
       "        <td style=\"padding-left: 1em; padding-right: 1em; text-align: center; vertical-align: top\">0.0364674925804</td>\n",
       "        <td style=\"padding-left: 1em; padding-right: 1em; text-align: center; vertical-align: top\">9</td>\n",
       "    </tr>\n",
       "    <tr>\n",
       "        <td style=\"padding-left: 1em; padding-right: 1em; text-align: center; vertical-align: top\">254049</td>\n",
       "        <td style=\"padding-left: 1em; padding-right: 1em; text-align: center; vertical-align: top\">254197</td>\n",
       "        <td style=\"padding-left: 1em; padding-right: 1em; text-align: center; vertical-align: top\">0.0360285043716</td>\n",
       "        <td style=\"padding-left: 1em; padding-right: 1em; text-align: center; vertical-align: top\">10</td>\n",
       "    </tr>\n",
       "</table>\n",
       "[10 rows x 4 columns]<br/>\n",
       "</div>"
      ],
      "text/plain": [
       "Columns:\n",
       "\tItem\tstr\n",
       "\tsimilar\tstr\n",
       "\tscore\tfloat\n",
       "\trank\tint\n",
       "\n",
       "Rows: 10\n",
       "\n",
       "Data:\n",
       "+--------+---------+-----------------+------+\n",
       "|  Item  | similar |      score      | rank |\n",
       "+--------+---------+-----------------+------+\n",
       "| 254049 |  254153 |  0.120898663998 |  1   |\n",
       "| 254049 |  220570 |  0.114174485207 |  2   |\n",
       "| 254049 |  328571 | 0.0566236376762 |  3   |\n",
       "| 254049 |  254038 | 0.0564288496971 |  4   |\n",
       "| 254049 |  254044 | 0.0508647561073 |  5   |\n",
       "| 254049 |  167125 | 0.0508454442024 |  6   |\n",
       "| 254049 |  167124 | 0.0405848026276 |  7   |\n",
       "| 254049 | CHN50SK | 0.0370730757713 |  8   |\n",
       "| 254049 |  167130 | 0.0364674925804 |  9   |\n",
       "| 254049 |  254197 | 0.0360285043716 |  10  |\n",
       "+--------+---------+-----------------+------+\n",
       "[10 rows x 4 columns]"
      ]
     },
     "execution_count": 68,
     "metadata": {},
     "output_type": "execute_result"
    }
   ],
   "source": [
    "item_item = gl.recommender.item_similarity_recommender.create(data_gl, \n",
    "                                  user_id = \"Order\", \n",
    "                                  item_id = \"Item\", \n",
    "                                  target = \"Std_Sales\",\n",
    "                                  only_top_k = 15,\n",
    "                                  similarity_type = \"cosine\")\n",
    "\n",
    "results = item_item.get_similar_items(k = 15)\n",
    "results.head()"
   ]
  },
  {
   "cell_type": "code",
   "execution_count": 71,
   "metadata": {
    "collapsed": false
   },
   "outputs": [],
   "source": [
    "export = results.to_dataframe()\n",
    "export.to_csv('CVG_Item_recommender.csv', encoding = 'utf-8')"
   ]
  },
  {
   "cell_type": "code",
   "execution_count": null,
   "metadata": {
    "collapsed": true
   },
   "outputs": [],
   "source": []
  }
 ],
 "metadata": {
  "anaconda-cloud": {},
  "kernelspec": {
   "display_name": "Python [default]",
   "language": "python",
   "name": "python2"
  },
  "language_info": {
   "codemirror_mode": {
    "name": "ipython",
    "version": 2
   },
   "file_extension": ".py",
   "mimetype": "text/x-python",
   "name": "python",
   "nbconvert_exporter": "python",
   "pygments_lexer": "ipython2",
   "version": "2.7.12"
  }
 },
 "nbformat": 4,
 "nbformat_minor": 2
}
